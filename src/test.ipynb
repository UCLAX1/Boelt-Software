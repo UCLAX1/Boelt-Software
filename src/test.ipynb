{
 "cells": [
  {
   "cell_type": "code",
   "execution_count": 1,
   "metadata": {},
   "outputs": [],
   "source": [
    "from IK import IK\n",
    "import math"
   ]
  },
  {
   "cell_type": "code",
   "execution_count": 2,
   "metadata": {},
   "outputs": [],
   "source": [
    "links = {}\n",
    "x1 = 0.4\n",
    "y1 = 0.6\n",
    "L1 = math.sqrt(x1**2 + y1**2)\n",
    "links[\"L1\"] = L1\n",
    "links[\"L3\"] = 1\n",
    "links[\"L4\"] = 1\n",
    "links[\"d2\"] = -0.1 \n",
    "links[\"d3\"] = 0.2"
   ]
  },
  {
   "cell_type": "code",
   "execution_count": 1,
   "metadata": {},
   "outputs": [
    {
     "ename": "SyntaxError",
     "evalue": "invalid syntax (3934592753.py, line 2)",
     "output_type": "error",
     "traceback": [
      "\u001b[0;36m  Cell \u001b[0;32mIn[1], line 2\u001b[0;36m\u001b[0m\n\u001b[0;31m    off[]\u001b[0m\n\u001b[0m        ^\u001b[0m\n\u001b[0;31mSyntaxError\u001b[0m\u001b[0;31m:\u001b[0m invalid syntax\n"
     ]
    }
   ],
   "source": [
    "off = {}\n",
    "off[\"t1\"] = math.atan2(x1,y1)\n",
    "off[\"t2\"] = math.pi/2 - math.atan2(x1,y1)\n",
    "off[\"t3\"] = -math.pi/2"
   ]
  },
  {
   "cell_type": "code",
   "execution_count": 3,
   "metadata": {},
   "outputs": [
    {
     "name": "stdout",
     "output_type": "stream",
     "text": [
      "A: 0.5, B: -0.7788897449072021, C: -0.2\n"
     ]
    },
    {
     "data": {
      "text/plain": [
       "[-2.788707167278721, 3.949568324772758, 0.5484481691965888]"
      ]
     },
     "execution_count": 3,
     "metadata": {},
     "output_type": "execute_result"
    }
   ],
   "source": [
    "IK(links, 1.5, 0.5, -1.8, 0)"
   ]
  }
 ],
 "metadata": {
  "kernelspec": {
   "display_name": "bolt",
   "language": "python",
   "name": "bolt"
  },
  "language_info": {
   "codemirror_mode": {
    "name": "ipython",
    "version": 3
   },
   "file_extension": ".py",
   "mimetype": "text/x-python",
   "name": "python",
   "nbconvert_exporter": "python",
   "pygments_lexer": "ipython3",
   "version": "3.8.8"
  },
  "orig_nbformat": 4,
  "vscode": {
   "interpreter": {
    "hash": "976c5a95c8009a4383d8faa35dc189d89e673eae10291b92200d3ae735679883"
   }
  }
 },
 "nbformat": 4,
 "nbformat_minor": 2
}
