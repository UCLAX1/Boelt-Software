{
 "cells": [
  {
   "cell_type": "code",
   "execution_count": null,
   "id": "fd9ef20a",
   "metadata": {},
   "outputs": [],
   "source": [
    "1+1"
   ]
  }
 ],
 "metadata": {
  "kernelspec": {
   "display_name": "boelt",
   "language": "python",
   "name": "boelt"
  }
 },
 "nbformat": 4,
 "nbformat_minor": 5
}
